{
 "cells": [
  {
   "cell_type": "code",
   "execution_count": 3,
   "metadata": {
    "collapsed": true
   },
   "outputs": [
    {
     "ename": "ImportError",
     "evalue": "No module named turtleEngine",
     "traceback": [
      "\u001b[0;31m---------------------------------------------------------------------------\u001b[0m",
      "\u001b[0;31mImportError\u001b[0m                               Traceback (most recent call last)",
      "\u001b[0;32m<ipython-input-3-faee69b3e8d0>\u001b[0m in \u001b[0;36m<module>\u001b[0;34m()\u001b[0m\n\u001b[1;32m      6\u001b[0m \u001b[0;32mimport\u001b[0m \u001b[0mmatplotlib\u001b[0m\u001b[0;34m.\u001b[0m\u001b[0mpyplot\u001b[0m \u001b[0;32mas\u001b[0m \u001b[0mplt\u001b[0m\u001b[0;34m\u001b[0m\u001b[0m\n\u001b[1;32m      7\u001b[0m \u001b[0;34m\u001b[0m\u001b[0m\n\u001b[0;32m----> 8\u001b[0;31m \u001b[0;32mfrom\u001b[0m \u001b[0mturtleEngine\u001b[0m \u001b[0;32mimport\u001b[0m \u001b[0mBacktestingEngine\u001b[0m\u001b[0;34m\u001b[0m\u001b[0m\n\u001b[0m",
      "\u001b[0;31mImportError\u001b[0m: No module named turtleEngine"
     ],
     "output_type": "error"
    }
   ],
   "source": [
    "%matplotlib inline\n",
    "\n",
    "from datetime import datetime\n",
    "\n",
    "import numpy as np\n",
    "import matplotlib.pyplot as plt\n",
    "\n",
    "from turtleEngine import BacktestingEngine"
   ]
  },
  {
   "cell_type": "code",
   "execution_count": 4,
   "metadata": {
    "scrolled": false
   },
   "outputs": [
    {
     "ename": "NameError",
     "evalue": "name 'BacktestingEngine' is not defined",
     "traceback": [
      "\u001b[0;31m---------------------------------------------------------------------------\u001b[0m",
      "\u001b[0;31mNameError\u001b[0m                                 Traceback (most recent call last)",
      "\u001b[0;32m<ipython-input-4-f3f1ba0815c4>\u001b[0m in \u001b[0;36m<module>\u001b[0;34m()\u001b[0m\n\u001b[0;32m----> 1\u001b[0;31m \u001b[0mengine\u001b[0m \u001b[0;34m=\u001b[0m \u001b[0mBacktestingEngine\u001b[0m\u001b[0;34m(\u001b[0m\u001b[0;34m)\u001b[0m\u001b[0;34m\u001b[0m\u001b[0m\n\u001b[0m\u001b[1;32m      2\u001b[0m \u001b[0mengine\u001b[0m\u001b[0;34m.\u001b[0m\u001b[0msetPeriod\u001b[0m\u001b[0;34m(\u001b[0m\u001b[0mdatetime\u001b[0m\u001b[0;34m(\u001b[0m\u001b[0;36m2014\u001b[0m\u001b[0;34m,\u001b[0m \u001b[0;36m1\u001b[0m\u001b[0;34m,\u001b[0m \u001b[0;36m1\u001b[0m\u001b[0;34m)\u001b[0m\u001b[0;34m,\u001b[0m \u001b[0mdatetime\u001b[0m\u001b[0;34m(\u001b[0m\u001b[0;36m2018\u001b[0m\u001b[0;34m,\u001b[0m \u001b[0;36m12\u001b[0m\u001b[0;34m,\u001b[0m \u001b[0;36m12\u001b[0m\u001b[0;34m)\u001b[0m\u001b[0;34m)\u001b[0m\u001b[0;34m\u001b[0m\u001b[0m\n\u001b[1;32m      3\u001b[0m \u001b[0mengine\u001b[0m\u001b[0;34m.\u001b[0m\u001b[0minitPortfolio\u001b[0m\u001b[0;34m(\u001b[0m\u001b[0;34m'setting.csv'\u001b[0m\u001b[0;34m,\u001b[0m \u001b[0;36m10000000\u001b[0m\u001b[0;34m)\u001b[0m\u001b[0;34m\u001b[0m\u001b[0m\n\u001b[1;32m      4\u001b[0m \u001b[0;34m\u001b[0m\u001b[0m\n\u001b[1;32m      5\u001b[0m \u001b[0mengine\u001b[0m\u001b[0;34m.\u001b[0m\u001b[0mloadData\u001b[0m\u001b[0;34m(\u001b[0m\u001b[0;34m)\u001b[0m\u001b[0;34m\u001b[0m\u001b[0m\n",
      "\u001b[0;31mNameError\u001b[0m: name 'BacktestingEngine' is not defined"
     ],
     "output_type": "error"
    }
   ],
   "source": [
    "engine = BacktestingEngine()\n",
    "engine.setPeriod(datetime(2014, 1, 1), datetime(2018, 12, 12))\n",
    "engine.initPortfolio('setting.csv', 10000000)\n",
    "\n",
    "engine.loadData()\n",
    "engine.runBacktesting()\n",
    "engine.showResult()"
   ]
  },
  {
   "cell_type": "code",
   "execution_count": 5,
   "metadata": {
    "scrolled": false
   },
   "outputs": [
    {
     "name": "stdout",
     "output_type": "stream",
     "text": [
      "RB888 空 开仓 247@2030.0\n",
      "RB888 空 开仓 247@2010.0\n",
      "RB888 空 开仓 247@1989.0\n",
      "RB888 空 开仓 247@1969.0\n",
      "RB888 多 平仓 988@2011.0\n",
      "RB888 空 开仓 337@1883.0\n",
      "RB888 空 开仓 337@1868.0\n",
      "RB888 空 开仓 337@1851.0\n",
      "RB888 空 开仓 337@1838.0\n",
      "RB888 多 平仓 1348@1506.0\n",
      "RB888 多 开仓 225@1557.0\n",
      "RB888 空 平仓 225@1468.0\n",
      "RB888 空 开仓 268@1372.0\n",
      "RB888 空 开仓 268@1353.0\n",
      "RB888 空 开仓 268@1335.0\n",
      "RB888 空 开仓 268@1316.0\n",
      "RB888 多 平仓 1072@1391.0\n",
      "RB888 空 开仓 263@1281.0\n",
      "RB888 空 开仓 263@1262.0\n",
      "RB888 空 开仓 263@1243.0\n",
      "RB888 多 平仓 789@1319.0\n",
      "RB888 空 开仓 236@1236.0\n",
      "RB888 空 开仓 236@1215.0\n",
      "RB888 空 开仓 236@1194.0\n",
      "RB888 空 开仓 236@1173.0\n",
      "RB888 多 平仓 944@1257.0\n",
      "RB888 空 开仓 290@1091.0\n",
      "RB888 空 开仓 290@1074.0\n",
      "RB888 空 开仓 290@1056.0\n",
      "RB888 空 开仓 290@1039.0\n",
      "RB888 多 平仓 1160@518.0\n",
      "RB888 多 开仓 343@631.0\n",
      "RB888 空 平仓 343@568.0\n",
      "RB888 多 开仓 338@635.0\n",
      "RB888 多 开仓 338@650.0\n",
      "RB888 空 平仓 676@591.0\n",
      "RB888 多 开仓 324@660.0\n",
      "RB888 多 开仓 324@675.0\n",
      "RB888 多 开仓 324@691.0\n",
      "RB888 多 开仓 324@706.0\n",
      "RB888 空 平仓 1296@1027.0\n",
      "RB888 空 开仓 112@766.0\n",
      "RB888 多 平仓 112@944.0\n",
      "RB888 多 开仓 112@1438.0\n",
      "RB888 多 开仓 112@1483.0\n",
      "RB888 多 开仓 112@1527.0\n",
      "RB888 空 平仓 336@1349.0\n",
      "RB888 多 开仓 149@1536.0\n",
      "RB888 多 开仓 149@1569.0\n",
      "RB888 多 开仓 149@1603.0\n",
      "RB888 多 开仓 149@1636.0\n",
      "RB888 空 平仓 596@1789.0\n",
      "RB888 多 开仓 78@2381.0\n",
      "RB888 多 开仓 78@2445.0\n",
      "RB888 空 平仓 156@2188.0\n",
      "RB888 多 开仓 86@2472.0\n",
      "RB888 空 平仓 86@2239.0\n",
      "RB888 多 开仓 111@2497.0\n",
      "RB888 多 开仓 111@2542.0\n",
      "RB888 多 开仓 111@2587.0\n",
      "RB888 多 开仓 111@2632.0\n",
      "RB888 空 平仓 444@2984.0\n",
      "RB888 多 开仓 100@3312.0\n",
      "RB888 多 开仓 100@3362.0\n",
      "RB888 空 平仓 200@3162.0\n",
      "RB888 多 开仓 147@3321.0\n",
      "RB888 空 平仓 147@3185.0\n",
      "RB888 空 开仓 145@3007.0\n",
      "RB888 空 开仓 145@2972.0\n",
      "RB888 空 开仓 145@2938.0\n",
      "RB888 空 开仓 145@2903.0\n",
      "RB888 多 平仓 580@2975.0\n",
      "RB888 多 开仓 136@3212.0\n",
      "RB888 多 开仓 136@3249.0\n",
      "RB888 多 开仓 136@3285.0\n",
      "RB888 多 开仓 136@3322.0\n",
      "RB888 空 平仓 544@3175.0\n",
      "RB888 多 开仓 142@3389.0\n",
      "RB888 多 开仓 142@3424.0\n",
      "RB888 多 开仓 142@3459.0\n",
      "RB888 多 开仓 142@3494.0\n",
      "RB888 空 平仓 568@3701.0\n",
      "RB888 空 开仓 118@3555.0\n",
      "RB888 空 开仓 118@3513.0\n",
      "RB888 空 开仓 118@3471.0\n",
      "RB888 空 开仓 118@3428.0\n"
     ]
    }
   ],
   "source": [
    "tradeList = engine.getTradeData('RB888')\n",
    "for trade in tradeList:\n",
    "    print '%s %s %s %s@%s' %(trade.vtSymbol, trade.direction, trade.offset,\n",
    "                             trade.volume, trade.price)"
   ]
  }
 ],
 "metadata": {
  "kernelspec": {
   "display_name": "Python 2",
   "language": "python",
   "name": "python2"
  },
  "language_info": {
   "codemirror_mode": {
    "name": "ipython",
    "version": 2
   },
   "file_extension": ".py",
   "mimetype": "text/x-python",
   "name": "python",
   "nbconvert_exporter": "python",
   "pygments_lexer": "ipython2",
   "version": "2.7.14"
  }
 },
 "nbformat": 4,
 "nbformat_minor": 2
}
